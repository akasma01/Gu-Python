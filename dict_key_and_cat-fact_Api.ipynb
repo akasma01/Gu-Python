{
 "cells": [
  {
   "cell_type": "code",
   "execution_count": 5,
   "id": "c03d7c8c-932e-4ea3-af5d-bbdb6333f8cc",
   "metadata": {},
   "outputs": [
    {
     "name": "stdout",
     "output_type": "stream",
     "text": [
      "a\n",
      "d\n",
      "c\n",
      "b\n"
     ]
    }
   ],
   "source": [
    "def combine_dictionaries(d1, d2):\n",
    "    combined_dict = {}\n",
    "\n",
    "    # Combine values for common keys from d1 and d2\n",
    "    for key in set(d1.keys()).union(set(d2.keys())):\n",
    "        print(key)\n",
    "        combined_dict[key] = d1.get(key, 0) + d2.get(key, 0)\n",
    "        \n",
    "\n",
    "    return combined_dict\n",
    "\n",
    "# Test with the given dictionaries\n",
    "d1 = {'a': 100, 'b': 200, 'c': 300}\n",
    "d2 = {'a': 300, 'b': 200, 'd': 400}\n",
    "\n",
    "result = combine_dictionaries(d1, d2)\n",
    "#print(result)"
   ]
  },
  {
   "cell_type": "code",
   "execution_count": null,
   "id": "3082280f-6380-40fd-8233-057a0b454a45",
   "metadata": {},
   "outputs": [],
   "source": []
  },
  {
   "cell_type": "code",
   "execution_count": 5,
   "id": "dc8d992c-8755-4fda-abd3-2253eff8eade",
   "metadata": {},
   "outputs": [
    {
     "data": {
      "text/plain": [
       "{'data': ['A cat has ran for mayor of Mexico City in 2013.']}"
      ]
     },
     "execution_count": 5,
     "metadata": {},
     "output_type": "execute_result"
    }
   ],
   "source": [
    "import requests\n",
    "import json\n",
    "# Specify the URL of the API endpoint for retrieving information about fish species.\n",
    "url = \"https://meowfacts.herokuapp.com/\"\n",
    "# Make an HTTP GET request to the specified URL and store the response in the data variable.\n",
    "data = requests.get(url)\n",
    "# Parse the JSON data received from the API response using json.loads() and store it in the results variable.\n",
    "results = json.loads(data.text)\n",
    "results"
   ]
  },
  {
   "cell_type": "code",
   "execution_count": null,
   "id": "b6af150d-bbc7-4407-8ffe-05eee0fc0b7b",
   "metadata": {},
   "outputs": [],
   "source": []
  }
 ],
 "metadata": {
  "kernelspec": {
   "display_name": "Python 3 (ipykernel)",
   "language": "python",
   "name": "python3"
  },
  "language_info": {
   "codemirror_mode": {
    "name": "ipython",
    "version": 3
   },
   "file_extension": ".py",
   "mimetype": "text/x-python",
   "name": "python",
   "nbconvert_exporter": "python",
   "pygments_lexer": "ipython3",
   "version": "3.11.5"
  }
 },
 "nbformat": 4,
 "nbformat_minor": 5
}
