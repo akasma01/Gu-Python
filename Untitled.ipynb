{
 "cells": [
  {
   "cell_type": "code",
   "execution_count": 1,
   "id": "3716984b-ffce-4619-bda1-19b0defa4b35",
   "metadata": {},
   "outputs": [],
   "source": [
    "import numpy as np"
   ]
  },
  {
   "cell_type": "code",
   "execution_count": 47,
   "id": "7268b7b1-1bf0-4559-a0eb-5c40b953fa41",
   "metadata": {},
   "outputs": [
    {
     "ename": "SyntaxError",
     "evalue": "incomplete input (472667636.py, line 20)",
     "output_type": "error",
     "traceback": [
      "\u001b[1;36m  Cell \u001b[1;32mIn[47], line 20\u001b[1;36m\u001b[0m\n\u001b[1;33m    \u001b[0m\n\u001b[1;37m    ^\u001b[0m\n\u001b[1;31mSyntaxError\u001b[0m\u001b[1;31m:\u001b[0m incomplete input\n"
     ]
    }
   ],
   "source": [
    "class sasta_lr:\n",
    "\n",
    "    m=0\n",
    "    c=0\n",
    "    def fit(self,x,y):\n",
    "        self.x_mean=x.mean()\n",
    "        self.y_mean=y.mean()\n",
    "        sasta_lr.m=((x-self.x_mean)*(y-self.y_mean)).sum()/((x-self.x_mean)*(x-self.x_mean)).sum()\n",
    "        sasta_lr.c=self.y_mean-sasta_lr.m*self.x_mean\n",
    "    def get_m(self):\n",
    "        print(self.m)\n",
    "    def get_c(self):\n",
    "        print(self.c)\n",
    "\n",
    "    def predict(self,x):\n",
    "        self.pred = self.m*x+self.\n",
    "        \n",
    "\n",
    "        \n",
    "\n",
    "    \n",
    "    "
   ]
  },
  {
   "cell_type": "code",
   "execution_count": 42,
   "id": "6eddde34-172e-4fc4-9000-f2772743a3e8",
   "metadata": {},
   "outputs": [],
   "source": [
    "X=np.array([2,6,8,8,12,16,20,20,22,26])\n",
    "Y=np.array([58,105,88,118,117,137,157,169,149,202])"
   ]
  },
  {
   "cell_type": "code",
   "execution_count": 43,
   "id": "1de7e3d4-14dd-48cf-b57b-0a1418d55e0c",
   "metadata": {},
   "outputs": [],
   "source": [
    "lr = sasta_lr()"
   ]
  },
  {
   "cell_type": "code",
   "execution_count": 44,
   "id": "b3473147-f0ff-4bf2-bca9-50240a55fafc",
   "metadata": {},
   "outputs": [],
   "source": [
    "lr.fit(X,Y)"
   ]
  },
  {
   "cell_type": "code",
   "execution_count": 45,
   "id": "b73e4a55-9409-44fc-ac00-8c365bb50e99",
   "metadata": {},
   "outputs": [
    {
     "name": "stdout",
     "output_type": "stream",
     "text": [
      "5.0\n"
     ]
    }
   ],
   "source": [
    "lr.get_m()"
   ]
  },
  {
   "cell_type": "code",
   "execution_count": 46,
   "id": "ffa0c9c7-1c9b-40a5-a0d7-a187fffb076b",
   "metadata": {},
   "outputs": [
    {
     "name": "stdout",
     "output_type": "stream",
     "text": [
      "60.0\n"
     ]
    }
   ],
   "source": [
    "lr.get_c()"
   ]
  },
  {
   "cell_type": "code",
   "execution_count": null,
   "id": "e5053467-0a17-4b42-8ec7-010c563aec69",
   "metadata": {},
   "outputs": [],
   "source": []
  }
 ],
 "metadata": {
  "kernelspec": {
   "display_name": "Python 3 (ipykernel)",
   "language": "python",
   "name": "python3"
  },
  "language_info": {
   "codemirror_mode": {
    "name": "ipython",
    "version": 3
   },
   "file_extension": ".py",
   "mimetype": "text/x-python",
   "name": "python",
   "nbconvert_exporter": "python",
   "pygments_lexer": "ipython3",
   "version": "3.11.5"
  }
 },
 "nbformat": 4,
 "nbformat_minor": 5
}
