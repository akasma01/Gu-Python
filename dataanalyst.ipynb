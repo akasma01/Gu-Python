{
 "cells": [
  {
   "cell_type": "code",
   "execution_count": 1,
   "id": "40dc25b8-182b-4345-bf3f-50ecbae76a53",
   "metadata": {},
   "outputs": [],
   "source": [
    "l1=[5,6,7,13,43,45,46,55,56,60,67,62,65,66,66,67,90,100,104,132]\n",
    "l2=sorted(l1)"
   ]
  },
  {
   "cell_type": "code",
   "execution_count": 2,
   "id": "12390171-fba3-41c9-ba86-80273be01080",
   "metadata": {},
   "outputs": [],
   "source": [
    "import pandas as pd"
   ]
  },
  {
   "cell_type": "code",
   "execution_count": 3,
   "id": "299fa764-ba9c-4a21-9dc2-ec342d023a81",
   "metadata": {},
   "outputs": [],
   "source": [
    "#df=pd.DataFrame({\"x\":[5,6,7,13,43,45,46,55,56,60,67,62,65,66,66,67,90,100,104,132]})"
   ]
  },
  {
   "cell_type": "code",
   "execution_count": 4,
   "id": "3f77687e-4eb1-48c0-832a-71439d41f23b",
   "metadata": {},
   "outputs": [],
   "source": [
    "df=pd.Series([5,6,7,13,43,45,46,55,56,60,67,62,65,66,66,67,90,100,104,132])"
   ]
  },
  {
   "cell_type": "code",
   "execution_count": 5,
   "id": "3cbb1b71-ba32-40c7-8d24-c2ea99d471f2",
   "metadata": {},
   "outputs": [],
   "source": [
    "df.sort_values(inplace=True)"
   ]
  },
  {
   "cell_type": "code",
   "execution_count": 6,
   "id": "5ee7d879-cbdd-46af-a86c-2574f981e9c6",
   "metadata": {},
   "outputs": [],
   "source": [
    "q1=df.quantile(0.25)\n",
    "q3=df.quantile(0.75)"
   ]
  },
  {
   "cell_type": "code",
   "execution_count": 7,
   "id": "844cadeb-9c97-49f9-a5ad-e7b97144067a",
   "metadata": {},
   "outputs": [
    {
     "name": "stdout",
     "output_type": "stream",
     "text": [
      "44.5 67.0\n"
     ]
    }
   ],
   "source": [
    "print(q1,q3)"
   ]
  },
  {
   "cell_type": "code",
   "execution_count": 8,
   "id": "c532661e-64c3-4907-bd8d-e065eb739139",
   "metadata": {},
   "outputs": [],
   "source": [
    "wmin=q1-(q1*1.5)\n",
    "wmax=q3+(q3*1.5)"
   ]
  },
  {
   "cell_type": "code",
   "execution_count": 9,
   "id": "ed955ce4-06f6-4642-8c81-d172d94c3317",
   "metadata": {},
   "outputs": [
    {
     "name": "stdout",
     "output_type": "stream",
     "text": [
      "-22.25\n",
      "167.5\n"
     ]
    }
   ],
   "source": [
    "print(wmin)\n",
    "print(wmax)"
   ]
  },
  {
   "cell_type": "code",
   "execution_count": 10,
   "id": "5572836b-b4c9-4865-b23d-5072cdf19bea",
   "metadata": {},
   "outputs": [],
   "source": [
    "df=pd.read_csv(\"customer.csv\",encoding=\"latin-1\")"
   ]
  },
  {
   "cell_type": "code",
   "execution_count": 11,
   "id": "6c4ca311-0492-4f10-9d4c-6388f0fb0d6e",
   "metadata": {},
   "outputs": [
    {
     "data": {
      "text/html": [
       "<div>\n",
       "<style scoped>\n",
       "    .dataframe tbody tr th:only-of-type {\n",
       "        vertical-align: middle;\n",
       "    }\n",
       "\n",
       "    .dataframe tbody tr th {\n",
       "        vertical-align: top;\n",
       "    }\n",
       "\n",
       "    .dataframe thead th {\n",
       "        text-align: right;\n",
       "    }\n",
       "</style>\n",
       "<table border=\"1\" class=\"dataframe\">\n",
       "  <thead>\n",
       "    <tr style=\"text-align: right;\">\n",
       "      <th></th>\n",
       "      <th>CustomerKey</th>\n",
       "      <th>Prefix</th>\n",
       "      <th>FirstName</th>\n",
       "      <th>LastName</th>\n",
       "      <th>BirthDate</th>\n",
       "      <th>MaritalStatus</th>\n",
       "      <th>Gender</th>\n",
       "      <th>EmailAddress</th>\n",
       "      <th>AnnualIncome</th>\n",
       "      <th>TotalChildren</th>\n",
       "      <th>EducationLevel</th>\n",
       "      <th>Occupation</th>\n",
       "      <th>HomeOwner</th>\n",
       "    </tr>\n",
       "  </thead>\n",
       "  <tbody>\n",
       "    <tr>\n",
       "      <th>0</th>\n",
       "      <td>11000</td>\n",
       "      <td>MR.</td>\n",
       "      <td>JON</td>\n",
       "      <td>YANG</td>\n",
       "      <td>04-08-1966</td>\n",
       "      <td>M</td>\n",
       "      <td>M</td>\n",
       "      <td>jon24@adventure-works.com</td>\n",
       "      <td>$90,000</td>\n",
       "      <td>2</td>\n",
       "      <td>Bachelors</td>\n",
       "      <td>Professional</td>\n",
       "      <td>Y</td>\n",
       "    </tr>\n",
       "    <tr>\n",
       "      <th>1</th>\n",
       "      <td>11001</td>\n",
       "      <td>MR.</td>\n",
       "      <td>EUGENE</td>\n",
       "      <td>HUANG</td>\n",
       "      <td>5/14/1965</td>\n",
       "      <td>S</td>\n",
       "      <td>M</td>\n",
       "      <td>eugene10@adventure-works.com</td>\n",
       "      <td>$60,000</td>\n",
       "      <td>3</td>\n",
       "      <td>Bachelors</td>\n",
       "      <td>Professional</td>\n",
       "      <td>N</td>\n",
       "    </tr>\n",
       "    <tr>\n",
       "      <th>2</th>\n",
       "      <td>11002</td>\n",
       "      <td>MR.</td>\n",
       "      <td>RUBEN</td>\n",
       "      <td>TORRES</td>\n",
       "      <td>08-12-1965</td>\n",
       "      <td>M</td>\n",
       "      <td>M</td>\n",
       "      <td>ruben35@adventure-works.com</td>\n",
       "      <td>$60,000</td>\n",
       "      <td>3</td>\n",
       "      <td>Bachelors</td>\n",
       "      <td>Professional</td>\n",
       "      <td>Y</td>\n",
       "    </tr>\n",
       "    <tr>\n",
       "      <th>3</th>\n",
       "      <td>11003</td>\n",
       "      <td>MS.</td>\n",
       "      <td>CHRISTY</td>\n",
       "      <td>ZHU</td>\n",
       "      <td>2/15/1968</td>\n",
       "      <td>S</td>\n",
       "      <td>F</td>\n",
       "      <td>christy12@adventure-works.com</td>\n",
       "      <td>$70,000</td>\n",
       "      <td>0</td>\n",
       "      <td>Bachelors</td>\n",
       "      <td>Professional</td>\n",
       "      <td>N</td>\n",
       "    </tr>\n",
       "    <tr>\n",
       "      <th>4</th>\n",
       "      <td>11004</td>\n",
       "      <td>MRS.</td>\n",
       "      <td>ELIZABETH</td>\n",
       "      <td>JOHNSON</td>\n",
       "      <td>08-08-1968</td>\n",
       "      <td>S</td>\n",
       "      <td>F</td>\n",
       "      <td>elizabeth5@adventure-works.com</td>\n",
       "      <td>$80,000</td>\n",
       "      <td>5</td>\n",
       "      <td>Bachelors</td>\n",
       "      <td>Professional</td>\n",
       "      <td>Y</td>\n",
       "    </tr>\n",
       "    <tr>\n",
       "      <th>...</th>\n",
       "      <td>...</td>\n",
       "      <td>...</td>\n",
       "      <td>...</td>\n",
       "      <td>...</td>\n",
       "      <td>...</td>\n",
       "      <td>...</td>\n",
       "      <td>...</td>\n",
       "      <td>...</td>\n",
       "      <td>...</td>\n",
       "      <td>...</td>\n",
       "      <td>...</td>\n",
       "      <td>...</td>\n",
       "      <td>...</td>\n",
       "    </tr>\n",
       "    <tr>\n",
       "      <th>18143</th>\n",
       "      <td>29479</td>\n",
       "      <td>MR.</td>\n",
       "      <td>TOMMY</td>\n",
       "      <td>TANG</td>\n",
       "      <td>07-04-1958</td>\n",
       "      <td>M</td>\n",
       "      <td>M</td>\n",
       "      <td>tommy2@adventure-works.com</td>\n",
       "      <td>$30,000</td>\n",
       "      <td>1</td>\n",
       "      <td>Graduate Degree</td>\n",
       "      <td>Clerical</td>\n",
       "      <td>Y</td>\n",
       "    </tr>\n",
       "    <tr>\n",
       "      <th>18144</th>\n",
       "      <td>29480</td>\n",
       "      <td>MRS.</td>\n",
       "      <td>NINA</td>\n",
       "      <td>RAJI</td>\n",
       "      <td>11-10-1960</td>\n",
       "      <td>S</td>\n",
       "      <td>F</td>\n",
       "      <td>nina21@adventure-works.com</td>\n",
       "      <td>$30,000</td>\n",
       "      <td>3</td>\n",
       "      <td>Graduate Degree</td>\n",
       "      <td>Clerical</td>\n",
       "      <td>Y</td>\n",
       "    </tr>\n",
       "    <tr>\n",
       "      <th>18145</th>\n",
       "      <td>29481</td>\n",
       "      <td>MR.</td>\n",
       "      <td>IVAN</td>\n",
       "      <td>SURI</td>\n",
       "      <td>01-05-1960</td>\n",
       "      <td>S</td>\n",
       "      <td>M</td>\n",
       "      <td>ivan0@adventure-works.com</td>\n",
       "      <td>$30,000</td>\n",
       "      <td>3</td>\n",
       "      <td>Graduate Degree</td>\n",
       "      <td>Clerical</td>\n",
       "      <td>N</td>\n",
       "    </tr>\n",
       "    <tr>\n",
       "      <th>18146</th>\n",
       "      <td>29482</td>\n",
       "      <td>MR.</td>\n",
       "      <td>CLAYTON</td>\n",
       "      <td>ZHANG</td>\n",
       "      <td>03-05-1959</td>\n",
       "      <td>M</td>\n",
       "      <td>M</td>\n",
       "      <td>clayton0@adventure-works.com</td>\n",
       "      <td>$30,000</td>\n",
       "      <td>3</td>\n",
       "      <td>Bachelors</td>\n",
       "      <td>Clerical</td>\n",
       "      <td>Y</td>\n",
       "    </tr>\n",
       "    <tr>\n",
       "      <th>18147</th>\n",
       "      <td>29483</td>\n",
       "      <td>MR.</td>\n",
       "      <td>JÉSUS</td>\n",
       "      <td>NAVARRO</td>\n",
       "      <td>12-08-1959</td>\n",
       "      <td>M</td>\n",
       "      <td>M</td>\n",
       "      <td>jésus9@adventure-works.com</td>\n",
       "      <td>$30,000</td>\n",
       "      <td>0</td>\n",
       "      <td>Bachelors</td>\n",
       "      <td>Clerical</td>\n",
       "      <td>Y</td>\n",
       "    </tr>\n",
       "  </tbody>\n",
       "</table>\n",
       "<p>18148 rows × 13 columns</p>\n",
       "</div>"
      ],
      "text/plain": [
       "       CustomerKey Prefix  FirstName LastName   BirthDate MaritalStatus  \\\n",
       "0            11000    MR.        JON     YANG  04-08-1966             M   \n",
       "1            11001    MR.     EUGENE    HUANG   5/14/1965             S   \n",
       "2            11002    MR.      RUBEN   TORRES  08-12-1965             M   \n",
       "3            11003    MS.    CHRISTY      ZHU   2/15/1968             S   \n",
       "4            11004   MRS.  ELIZABETH  JOHNSON  08-08-1968             S   \n",
       "...            ...    ...        ...      ...         ...           ...   \n",
       "18143        29479    MR.      TOMMY     TANG  07-04-1958             M   \n",
       "18144        29480   MRS.       NINA     RAJI  11-10-1960             S   \n",
       "18145        29481    MR.       IVAN     SURI  01-05-1960             S   \n",
       "18146        29482    MR.    CLAYTON    ZHANG  03-05-1959             M   \n",
       "18147        29483    MR.      JÉSUS  NAVARRO  12-08-1959             M   \n",
       "\n",
       "      Gender                    EmailAddress AnnualIncome  TotalChildren  \\\n",
       "0          M       jon24@adventure-works.com     $90,000               2   \n",
       "1          M    eugene10@adventure-works.com     $60,000               3   \n",
       "2          M     ruben35@adventure-works.com     $60,000               3   \n",
       "3          F   christy12@adventure-works.com     $70,000               0   \n",
       "4          F  elizabeth5@adventure-works.com     $80,000               5   \n",
       "...      ...                             ...          ...            ...   \n",
       "18143      M      tommy2@adventure-works.com     $30,000               1   \n",
       "18144      F      nina21@adventure-works.com     $30,000               3   \n",
       "18145      M       ivan0@adventure-works.com     $30,000               3   \n",
       "18146      M    clayton0@adventure-works.com     $30,000               3   \n",
       "18147      M      jésus9@adventure-works.com     $30,000               0   \n",
       "\n",
       "        EducationLevel    Occupation HomeOwner  \n",
       "0            Bachelors  Professional         Y  \n",
       "1            Bachelors  Professional         N  \n",
       "2            Bachelors  Professional         Y  \n",
       "3            Bachelors  Professional         N  \n",
       "4            Bachelors  Professional         Y  \n",
       "...                ...           ...       ...  \n",
       "18143  Graduate Degree      Clerical         Y  \n",
       "18144  Graduate Degree      Clerical         Y  \n",
       "18145  Graduate Degree      Clerical         N  \n",
       "18146        Bachelors      Clerical         Y  \n",
       "18147        Bachelors      Clerical         Y  \n",
       "\n",
       "[18148 rows x 13 columns]"
      ]
     },
     "execution_count": 11,
     "metadata": {},
     "output_type": "execute_result"
    }
   ],
   "source": [
    "df"
   ]
  },
  {
   "cell_type": "code",
   "execution_count": 12,
   "id": "cd61ef32-aa67-4d3f-a592-b112712eabd4",
   "metadata": {},
   "outputs": [
    {
     "data": {
      "text/plain": [
       "CustomerKey         0\n",
       "Prefix            130\n",
       "FirstName           0\n",
       "LastName            0\n",
       "BirthDate           0\n",
       "MaritalStatus       0\n",
       "Gender            130\n",
       "EmailAddress        0\n",
       "AnnualIncome        0\n",
       "TotalChildren       0\n",
       "EducationLevel      0\n",
       "Occupation          0\n",
       "HomeOwner           0\n",
       "dtype: int64"
      ]
     },
     "execution_count": 12,
     "metadata": {},
     "output_type": "execute_result"
    }
   ],
   "source": [
    "df.isnull().sum()"
   ]
  },
  {
   "cell_type": "code",
   "execution_count": 13,
   "id": "8907f73b-49de-4d2d-bc25-c9b59a2d6f5e",
   "metadata": {},
   "outputs": [],
   "source": [
    "df.dropna(inplace=True)"
   ]
  },
  {
   "cell_type": "code",
   "execution_count": 14,
   "id": "25eaceb1-e142-46fb-a65d-c51556324599",
   "metadata": {},
   "outputs": [
    {
     "name": "stdout",
     "output_type": "stream",
     "text": [
      "<class 'pandas.core.frame.DataFrame'>\n",
      "Index: 18018 entries, 0 to 18147\n",
      "Data columns (total 13 columns):\n",
      " #   Column          Non-Null Count  Dtype \n",
      "---  ------          --------------  ----- \n",
      " 0   CustomerKey     18018 non-null  int64 \n",
      " 1   Prefix          18018 non-null  object\n",
      " 2   FirstName       18018 non-null  object\n",
      " 3   LastName        18018 non-null  object\n",
      " 4   BirthDate       18018 non-null  object\n",
      " 5   MaritalStatus   18018 non-null  object\n",
      " 6   Gender          18018 non-null  object\n",
      " 7   EmailAddress    18018 non-null  object\n",
      " 8   AnnualIncome    18018 non-null  object\n",
      " 9   TotalChildren   18018 non-null  int64 \n",
      " 10  EducationLevel  18018 non-null  object\n",
      " 11  Occupation      18018 non-null  object\n",
      " 12  HomeOwner       18018 non-null  object\n",
      "dtypes: int64(2), object(11)\n",
      "memory usage: 1.9+ MB\n"
     ]
    }
   ],
   "source": [
    "df.info()"
   ]
  },
  {
   "cell_type": "code",
   "execution_count": 15,
   "id": "8f293153-c396-444d-a696-087535c4070b",
   "metadata": {},
   "outputs": [],
   "source": [
    "import matplotlib.pyplot as plt"
   ]
  },
  {
   "cell_type": "code",
   "execution_count": 16,
   "id": "c27267a9-7d3d-49bb-999d-021c21e9e0da",
   "metadata": {},
   "outputs": [
    {
     "name": "stdout",
     "output_type": "stream",
     "text": [
      "<class 'pandas.core.frame.DataFrame'>\n",
      "Index: 18018 entries, 0 to 18147\n",
      "Data columns (total 13 columns):\n",
      " #   Column          Non-Null Count  Dtype \n",
      "---  ------          --------------  ----- \n",
      " 0   CustomerKey     18018 non-null  int64 \n",
      " 1   Prefix          18018 non-null  object\n",
      " 2   FirstName       18018 non-null  object\n",
      " 3   LastName        18018 non-null  object\n",
      " 4   BirthDate       18018 non-null  object\n",
      " 5   MaritalStatus   18018 non-null  object\n",
      " 6   Gender          18018 non-null  object\n",
      " 7   EmailAddress    18018 non-null  object\n",
      " 8   AnnualIncome    18018 non-null  object\n",
      " 9   TotalChildren   18018 non-null  int64 \n",
      " 10  EducationLevel  18018 non-null  object\n",
      " 11  Occupation      18018 non-null  object\n",
      " 12  HomeOwner       18018 non-null  object\n",
      "dtypes: int64(2), object(11)\n",
      "memory usage: 1.9+ MB\n"
     ]
    }
   ],
   "source": [
    "df.info()"
   ]
  },
  {
   "cell_type": "code",
   "execution_count": 17,
   "id": "903e9293-99f1-4fdb-94fa-52161a651092",
   "metadata": {},
   "outputs": [
    {
     "data": {
      "text/plain": [
       "{'whiskers': [<matplotlib.lines.Line2D at 0x2562ed68b90>,\n",
       "  <matplotlib.lines.Line2D at 0x2562ed69910>],\n",
       " 'caps': [<matplotlib.lines.Line2D at 0x2562ecb6b90>,\n",
       "  <matplotlib.lines.Line2D at 0x2562ed6b3d0>],\n",
       " 'boxes': [<matplotlib.lines.Line2D at 0x2562ed5bf90>],\n",
       " 'medians': [<matplotlib.lines.Line2D at 0x2562ed6be50>],\n",
       " 'fliers': [<matplotlib.lines.Line2D at 0x2562ed789d0>],\n",
       " 'means': []}"
      ]
     },
     "execution_count": 17,
     "metadata": {},
     "output_type": "execute_result"
    },
    {
     "data": {
      "image/png": "[encoded data removed]",
      "text/plain": [
       "<Figure size 640x480 with 1 Axes>"
      ]
     },
     "metadata": {},
     "output_type": "display_data"
    }
   ],
   "source": [
    "plt.boxplot(df[\"TotalChildren\"])"
   ]
  },
  {
   "cell_type": "code",
   "execution_count": 18,
   "id": "38941f36-d24e-4d51-9b78-02d0a5e253e9",
   "metadata": {},
   "outputs": [
    {
     "data": {
      "text/plain": [
       "array([2, 3, 0, 5, 4, 1], dtype=int64)"
      ]
     },
     "execution_count": 18,
     "metadata": {},
     "output_type": "execute_result"
    }
   ],
   "source": [
    "df[\"TotalChildren\"].unique()"
   ]
  },
  {
   "cell_type": "code",
   "execution_count": 19,
   "id": "cd89c5d9-9b0a-4da0-ada5-089a9990a475",
   "metadata": {},
   "outputs": [],
   "source": [
    "df.loc[617,\"TotalChildren\"]=578"
   ]
  },
  {
   "cell_type": "code",
   "execution_count": 20,
   "id": "6b54b71f-0e7a-449c-8ed4-c13b61c9ab21",
   "metadata": {},
   "outputs": [],
   "source": [
    "mean=df[\"TotalChildren\"].mean()"
   ]
  },
  {
   "cell_type": "code",
   "execution_count": 21,
   "id": "983d930d-3834-4673-b1ff-c597d261887d",
   "metadata": {},
   "outputs": [],
   "source": [
    "std=df[\"TotalChildren\"].std()"
   ]
  },
  {
   "cell_type": "code",
   "execution_count": 22,
   "id": "37c8c13f-f7d1-43ee-8807-f872c71ee937",
   "metadata": {},
   "outputs": [],
   "source": [
    "ztable=df[\"TotalChildren\"].apply(lambda x: (x-mean)/std)"
   ]
  },
  {
   "cell_type": "code",
   "execution_count": 23,
   "id": "cab39d6e-6154-4903-b89c-b139e8fb8d67",
   "metadata": {},
   "outputs": [
    {
     "data": {
      "text/plain": [
       "0        0.027488\n",
       "1        0.245578\n",
       "2        0.245578\n",
       "3       -0.408691\n",
       "4        0.681757\n",
       "           ...   \n",
       "18143   -0.190601\n",
       "18144    0.245578\n",
       "18145    0.245578\n",
       "18146    0.245578\n",
       "18147   -0.408691\n",
       "Name: TotalChildren, Length: 18018, dtype: float64"
      ]
     },
     "execution_count": 23,
     "metadata": {},
     "output_type": "execute_result"
    }
   ],
   "source": [
    "ztable"
   ]
  },
  {
   "cell_type": "code",
   "execution_count": 24,
   "id": "3fb964b2-b58b-41ae-8d88-a3cf0cfb0ce6",
   "metadata": {},
   "outputs": [
    {
     "data": {
      "text/plain": [
       "0        M\n",
       "1        M\n",
       "2        M\n",
       "3        F\n",
       "4        F\n",
       "        ..\n",
       "18143    M\n",
       "18144    F\n",
       "18145    M\n",
       "18146    M\n",
       "18147    M\n",
       "Name: Gender, Length: 18018, dtype: object"
      ]
     },
     "execution_count": 24,
     "metadata": {},
     "output_type": "execute_result"
    }
   ],
   "source": [
    "df[\"Gender\"]"
   ]
  },
  {
   "cell_type": "code",
   "execution_count": 25,
   "id": "47911603-5179-4edf-8395-425725808599",
   "metadata": {},
   "outputs": [],
   "source": [
    "#df[\"Gender\"].apply(lambda x:\"Male\" if x==\"M\" else \"Female\")"
   ]
  },
  {
   "cell_type": "code",
   "execution_count": 26,
   "id": "f6c06e5e-85cd-4031-b2ee-169c5ed29cd2",
   "metadata": {},
   "outputs": [],
   "source": [
    "df['z-score'] = (df['TotalChildren'] - mean) / std"
   ]
  },
  {
   "cell_type": "code",
   "execution_count": 27,
   "id": "54c63ca5-9c01-4816-a56f-04283a27ab35",
   "metadata": {},
   "outputs": [],
   "source": [
    "l=df.loc[df['z-score']>3,\"TotalChildren\"]"
   ]
  },
  {
   "cell_type": "code",
   "execution_count": 28,
   "id": "f16f4f96-d185-4cc5-aecc-44df12023341",
   "metadata": {},
   "outputs": [
    {
     "data": {
      "text/plain": [
       "617    578\n",
       "Name: TotalChildren, dtype: int64"
      ]
     },
     "execution_count": 28,
     "metadata": {},
     "output_type": "execute_result"
    }
   ],
   "source": [
    "l"
   ]
  },
  {
   "cell_type": "code",
   "execution_count": 29,
   "id": "28b58bab-ce5c-4dc3-91f6-d9db6f904364",
   "metadata": {},
   "outputs": [],
   "source": [
    "df=df[~df['TotalChildren'].isin(l) ]"
   ]
  },
  {
   "cell_type": "code",
   "execution_count": 30,
   "id": "54b61dda-ae9d-4e87-a0f0-7595eb003807",
   "metadata": {},
   "outputs": [
    {
     "data": {
      "text/plain": [
       "{'whiskers': [<matplotlib.lines.Line2D at 0x2562ee4f750>,\n",
       "  <matplotlib.lines.Line2D at 0x2562ee3c3d0>],\n",
       " 'caps': [<matplotlib.lines.Line2D at 0x2562ee5ec90>,\n",
       "  <matplotlib.lines.Line2D at 0x2562ee3d8d0>],\n",
       " 'boxes': [<matplotlib.lines.Line2D at 0x2562ee4ecd0>],\n",
       " 'medians': [<matplotlib.lines.Line2D at 0x2562ee3e390>],\n",
       " 'fliers': [<matplotlib.lines.Line2D at 0x2562ee3ee90>],\n",
       " 'means': []}"
      ]
     },
     "execution_count": 30,
     "metadata": {},
     "output_type": "execute_result"
    },
    {
     "data": {
      "image/png": "[encoded data removed]",
      "text/plain": [
       "<Figure size 640x480 with 1 Axes>"
      ]
     },
     "metadata": {},
     "output_type": "display_data"
    }
   ],
   "source": [
    "plt.boxplot(df['TotalChildren'])"
   ]
  },
  {
   "cell_type": "code",
   "execution_count": 31,
   "id": "f9baae69-0d50-4b79-89e2-628b093be914",
   "metadata": {},
   "outputs": [],
   "source": [
    "x= pd.DataFrame([-10,201,301,-401,501,601,701],columns=[\"A\"])"
   ]
  },
  {
   "cell_type": "code",
   "execution_count": null,
   "id": "6207976b-0b0e-4834-b3f0-fd99ca98b782",
   "metadata": {},
   "outputs": [],
   "source": []
  },
  {
   "cell_type": "code",
   "execution_count": 32,
   "id": "e7660d76-9ac9-4b0b-a88b-54ed8a800f16",
   "metadata": {},
   "outputs": [
    {
     "data": {
      "text/plain": [
       "0    -10\n",
       "1    201\n",
       "2    301\n",
       "3   -401\n",
       "4    501\n",
       "5    601\n",
       "6    701\n",
       "Name: A, dtype: int64"
      ]
     },
     "execution_count": 32,
     "metadata": {},
     "output_type": "execute_result"
    }
   ],
   "source": [
    "x[\"A\"]"
   ]
  },
  {
   "cell_type": "code",
   "execution_count": 33,
   "id": "95ee3132-3c96-4021-9ec4-ed76d84fb643",
   "metadata": {},
   "outputs": [],
   "source": [
    "df1=(x[\"A\"]-x[\"A\"].max())/(x[\"A\"].max()-x[\"A\"].min())"
   ]
  },
  {
   "cell_type": "code",
   "execution_count": 34,
   "id": "2e89c4ff-a853-4a92-a22a-6a69dad1e601",
   "metadata": {},
   "outputs": [
    {
     "data": {
      "text/plain": [
       "0   -0.645191\n",
       "1   -0.453721\n",
       "2   -0.362976\n",
       "3   -1.000000\n",
       "4   -0.181488\n",
       "5   -0.090744\n",
       "6    0.000000\n",
       "Name: A, dtype: float64"
      ]
     },
     "execution_count": 34,
     "metadata": {},
     "output_type": "execute_result"
    }
   ],
   "source": [
    "df1"
   ]
  },
  {
   "cell_type": "code",
   "execution_count": 35,
   "id": "6cfd18a3-7369-41a3-b97e-46953ce6974d",
   "metadata": {},
   "outputs": [],
   "source": [
    "from sklearn import datasets"
   ]
  },
  {
   "cell_type": "code",
   "execution_count": 36,
   "id": "6ddce27f-ae30-466a-8f42-a67ab6cedc8d",
   "metadata": {},
   "outputs": [],
   "source": [
    "df1=datasets.load_iris()"
   ]
  },
  {
   "cell_type": "code",
   "execution_count": 37,
   "id": "23f4cc72-e0c3-436f-934e-b0b0bf895d7e",
   "metadata": {},
   "outputs": [],
   "source": [
    "#df1.columns=[\"A\",\"B\",\"C\",\"D\"]"
   ]
  },
  {
   "cell_type": "code",
   "execution_count": 38,
   "id": "1bfc99a9-0f2c-4adb-b014-a4361eb4048b",
   "metadata": {},
   "outputs": [],
   "source": [
    "df2=pd.DataFrame(data=df1.data,columns=df1.feature_names)"
   ]
  },
  {
   "cell_type": "code",
   "execution_count": 39,
   "id": "4cb917fb-0c2d-4ef1-97be-800ba5937029",
   "metadata": {},
   "outputs": [
    {
     "data": {
      "text/html": [
       "<div>\n",
       "<style scoped>\n",
       "    .dataframe tbody tr th:only-of-type {\n",
       "        vertical-align: middle;\n",
       "    }\n",
       "\n",
       "    .dataframe tbody tr th {\n",
       "        vertical-align: top;\n",
       "    }\n",
       "\n",
       "    .dataframe thead th {\n",
       "        text-align: right;\n",
       "    }\n",
       "</style>\n",
       "<table border=\"1\" class=\"dataframe\">\n",
       "  <thead>\n",
       "    <tr style=\"text-align: right;\">\n",
       "      <th></th>\n",
       "      <th>sepal length (cm)</th>\n",
       "      <th>sepal width (cm)</th>\n",
       "      <th>petal length (cm)</th>\n",
       "      <th>petal width (cm)</th>\n",
       "    </tr>\n",
       "  </thead>\n",
       "  <tbody>\n",
       "    <tr>\n",
       "      <th>0</th>\n",
       "      <td>5.1</td>\n",
       "      <td>3.5</td>\n",
       "      <td>1.4</td>\n",
       "      <td>0.2</td>\n",
       "    </tr>\n",
       "    <tr>\n",
       "      <th>1</th>\n",
       "      <td>4.9</td>\n",
       "      <td>3.0</td>\n",
       "      <td>1.4</td>\n",
       "      <td>0.2</td>\n",
       "    </tr>\n",
       "    <tr>\n",
       "      <th>2</th>\n",
       "      <td>4.7</td>\n",
       "      <td>3.2</td>\n",
       "      <td>1.3</td>\n",
       "      <td>0.2</td>\n",
       "    </tr>\n",
       "    <tr>\n",
       "      <th>3</th>\n",
       "      <td>4.6</td>\n",
       "      <td>3.1</td>\n",
       "      <td>1.5</td>\n",
       "      <td>0.2</td>\n",
       "    </tr>\n",
       "    <tr>\n",
       "      <th>4</th>\n",
       "      <td>5.0</td>\n",
       "      <td>3.6</td>\n",
       "      <td>1.4</td>\n",
       "      <td>0.2</td>\n",
       "    </tr>\n",
       "    <tr>\n",
       "      <th>...</th>\n",
       "      <td>...</td>\n",
       "      <td>...</td>\n",
       "      <td>...</td>\n",
       "      <td>...</td>\n",
       "    </tr>\n",
       "    <tr>\n",
       "      <th>145</th>\n",
       "      <td>6.7</td>\n",
       "      <td>3.0</td>\n",
       "      <td>5.2</td>\n",
       "      <td>2.3</td>\n",
       "    </tr>\n",
       "    <tr>\n",
       "      <th>146</th>\n",
       "      <td>6.3</td>\n",
       "      <td>2.5</td>\n",
       "      <td>5.0</td>\n",
       "      <td>1.9</td>\n",
       "    </tr>\n",
       "    <tr>\n",
       "      <th>147</th>\n",
       "      <td>6.5</td>\n",
       "      <td>3.0</td>\n",
       "      <td>5.2</td>\n",
       "      <td>2.0</td>\n",
       "    </tr>\n",
       "    <tr>\n",
       "      <th>148</th>\n",
       "      <td>6.2</td>\n",
       "      <td>3.4</td>\n",
       "      <td>5.4</td>\n",
       "      <td>2.3</td>\n",
       "    </tr>\n",
       "    <tr>\n",
       "      <th>149</th>\n",
       "      <td>5.9</td>\n",
       "      <td>3.0</td>\n",
       "      <td>5.1</td>\n",
       "      <td>1.8</td>\n",
       "    </tr>\n",
       "  </tbody>\n",
       "</table>\n",
       "<p>150 rows × 4 columns</p>\n",
       "</div>"
      ],
      "text/plain": [
       "     sepal length (cm)  sepal width (cm)  petal length (cm)  petal width (cm)\n",
       "0                  5.1               3.5                1.4               0.2\n",
       "1                  4.9               3.0                1.4               0.2\n",
       "2                  4.7               3.2                1.3               0.2\n",
       "3                  4.6               3.1                1.5               0.2\n",
       "4                  5.0               3.6                1.4               0.2\n",
       "..                 ...               ...                ...               ...\n",
       "145                6.7               3.0                5.2               2.3\n",
       "146                6.3               2.5                5.0               1.9\n",
       "147                6.5               3.0                5.2               2.0\n",
       "148                6.2               3.4                5.4               2.3\n",
       "149                5.9               3.0                5.1               1.8\n",
       "\n",
       "[150 rows x 4 columns]"
      ]
     },
     "execution_count": 39,
     "metadata": {},
     "output_type": "execute_result"
    }
   ],
   "source": [
    "df2"
   ]
  },
  {
   "cell_type": "code",
   "execution_count": 40,
   "id": "1d2fbf22-03a8-43f4-9138-a59363317096",
   "metadata": {},
   "outputs": [
    {
     "data": {
      "image/png": "[encoded data removed]",
      "text/plain": [
       "<Figure size 640x480 with 1 Axes>"
      ]
     },
     "metadata": {},
     "output_type": "display_data"
    }
   ],
   "source": [
    "plt.boxplot(df2)\n",
    "plt.show()"
   ]
  },
  {
   "cell_type": "code",
   "execution_count": 41,
   "id": "7f786ac7-d61b-4d99-9cc1-d83ed7b498d6",
   "metadata": {},
   "outputs": [
    {
     "data": {
      "text/html": [
       "<div>\n",
       "<style scoped>\n",
       "    .dataframe tbody tr th:only-of-type {\n",
       "        vertical-align: middle;\n",
       "    }\n",
       "\n",
       "    .dataframe tbody tr th {\n",
       "        vertical-align: top;\n",
       "    }\n",
       "\n",
       "    .dataframe thead th {\n",
       "        text-align: right;\n",
       "    }\n",
       "</style>\n",
       "<table border=\"1\" class=\"dataframe\">\n",
       "  <thead>\n",
       "    <tr style=\"text-align: right;\">\n",
       "      <th></th>\n",
       "      <th>sepal length (cm)</th>\n",
       "      <th>sepal width (cm)</th>\n",
       "      <th>petal length (cm)</th>\n",
       "      <th>petal width (cm)</th>\n",
       "    </tr>\n",
       "  </thead>\n",
       "  <tbody>\n",
       "    <tr>\n",
       "      <th>0</th>\n",
       "      <td>5.1</td>\n",
       "      <td>3.5</td>\n",
       "      <td>1.4</td>\n",
       "      <td>0.2</td>\n",
       "    </tr>\n",
       "    <tr>\n",
       "      <th>1</th>\n",
       "      <td>4.9</td>\n",
       "      <td>3.0</td>\n",
       "      <td>1.4</td>\n",
       "      <td>0.2</td>\n",
       "    </tr>\n",
       "    <tr>\n",
       "      <th>2</th>\n",
       "      <td>4.7</td>\n",
       "      <td>3.2</td>\n",
       "      <td>1.3</td>\n",
       "      <td>0.2</td>\n",
       "    </tr>\n",
       "    <tr>\n",
       "      <th>3</th>\n",
       "      <td>4.6</td>\n",
       "      <td>3.1</td>\n",
       "      <td>1.5</td>\n",
       "      <td>0.2</td>\n",
       "    </tr>\n",
       "    <tr>\n",
       "      <th>4</th>\n",
       "      <td>5.0</td>\n",
       "      <td>3.6</td>\n",
       "      <td>1.4</td>\n",
       "      <td>0.2</td>\n",
       "    </tr>\n",
       "    <tr>\n",
       "      <th>...</th>\n",
       "      <td>...</td>\n",
       "      <td>...</td>\n",
       "      <td>...</td>\n",
       "      <td>...</td>\n",
       "    </tr>\n",
       "    <tr>\n",
       "      <th>145</th>\n",
       "      <td>6.7</td>\n",
       "      <td>3.0</td>\n",
       "      <td>5.2</td>\n",
       "      <td>2.3</td>\n",
       "    </tr>\n",
       "    <tr>\n",
       "      <th>146</th>\n",
       "      <td>6.3</td>\n",
       "      <td>2.5</td>\n",
       "      <td>5.0</td>\n",
       "      <td>1.9</td>\n",
       "    </tr>\n",
       "    <tr>\n",
       "      <th>147</th>\n",
       "      <td>6.5</td>\n",
       "      <td>3.0</td>\n",
       "      <td>5.2</td>\n",
       "      <td>2.0</td>\n",
       "    </tr>\n",
       "    <tr>\n",
       "      <th>148</th>\n",
       "      <td>6.2</td>\n",
       "      <td>3.4</td>\n",
       "      <td>5.4</td>\n",
       "      <td>2.3</td>\n",
       "    </tr>\n",
       "    <tr>\n",
       "      <th>149</th>\n",
       "      <td>5.9</td>\n",
       "      <td>3.0</td>\n",
       "      <td>5.1</td>\n",
       "      <td>1.8</td>\n",
       "    </tr>\n",
       "  </tbody>\n",
       "</table>\n",
       "<p>150 rows × 4 columns</p>\n",
       "</div>"
      ],
      "text/plain": [
       "     sepal length (cm)  sepal width (cm)  petal length (cm)  petal width (cm)\n",
       "0                  5.1               3.5                1.4               0.2\n",
       "1                  4.9               3.0                1.4               0.2\n",
       "2                  4.7               3.2                1.3               0.2\n",
       "3                  4.6               3.1                1.5               0.2\n",
       "4                  5.0               3.6                1.4               0.2\n",
       "..                 ...               ...                ...               ...\n",
       "145                6.7               3.0                5.2               2.3\n",
       "146                6.3               2.5                5.0               1.9\n",
       "147                6.5               3.0                5.2               2.0\n",
       "148                6.2               3.4                5.4               2.3\n",
       "149                5.9               3.0                5.1               1.8\n",
       "\n",
       "[150 rows x 4 columns]"
      ]
     },
     "execution_count": 41,
     "metadata": {},
     "output_type": "execute_result"
    }
   ],
   "source": [
    "df2"
   ]
  },
  {
   "cell_type": "code",
   "execution_count": 42,
   "id": "9acb3be1-776a-4556-9d3c-817ec3465399",
   "metadata": {},
   "outputs": [],
   "source": [
    "df3=(df2-df2.max())/(df2.max()-df2.min())"
   ]
  },
  {
   "cell_type": "code",
   "execution_count": 43,
   "id": "17dfcd9b-1f79-4cb1-a5bb-cb3c59bd7a01",
   "metadata": {},
   "outputs": [
    {
     "data": {
      "text/html": [
       "<div>\n",
       "<style scoped>\n",
       "    .dataframe tbody tr th:only-of-type {\n",
       "        vertical-align: middle;\n",
       "    }\n",
       "\n",
       "    .dataframe tbody tr th {\n",
       "        vertical-align: top;\n",
       "    }\n",
       "\n",
       "    .dataframe thead th {\n",
       "        text-align: right;\n",
       "    }\n",
       "</style>\n",
       "<table border=\"1\" class=\"dataframe\">\n",
       "  <thead>\n",
       "    <tr style=\"text-align: right;\">\n",
       "      <th></th>\n",
       "      <th>sepal length (cm)</th>\n",
       "      <th>sepal width (cm)</th>\n",
       "      <th>petal length (cm)</th>\n",
       "      <th>petal width (cm)</th>\n",
       "    </tr>\n",
       "  </thead>\n",
       "  <tbody>\n",
       "    <tr>\n",
       "      <th>0</th>\n",
       "      <td>-0.777778</td>\n",
       "      <td>-0.375000</td>\n",
       "      <td>-0.932203</td>\n",
       "      <td>-0.958333</td>\n",
       "    </tr>\n",
       "    <tr>\n",
       "      <th>1</th>\n",
       "      <td>-0.833333</td>\n",
       "      <td>-0.583333</td>\n",
       "      <td>-0.932203</td>\n",
       "      <td>-0.958333</td>\n",
       "    </tr>\n",
       "    <tr>\n",
       "      <th>2</th>\n",
       "      <td>-0.888889</td>\n",
       "      <td>-0.500000</td>\n",
       "      <td>-0.949153</td>\n",
       "      <td>-0.958333</td>\n",
       "    </tr>\n",
       "    <tr>\n",
       "      <th>3</th>\n",
       "      <td>-0.916667</td>\n",
       "      <td>-0.541667</td>\n",
       "      <td>-0.915254</td>\n",
       "      <td>-0.958333</td>\n",
       "    </tr>\n",
       "    <tr>\n",
       "      <th>4</th>\n",
       "      <td>-0.805556</td>\n",
       "      <td>-0.333333</td>\n",
       "      <td>-0.932203</td>\n",
       "      <td>-0.958333</td>\n",
       "    </tr>\n",
       "    <tr>\n",
       "      <th>...</th>\n",
       "      <td>...</td>\n",
       "      <td>...</td>\n",
       "      <td>...</td>\n",
       "      <td>...</td>\n",
       "    </tr>\n",
       "    <tr>\n",
       "      <th>145</th>\n",
       "      <td>-0.333333</td>\n",
       "      <td>-0.583333</td>\n",
       "      <td>-0.288136</td>\n",
       "      <td>-0.083333</td>\n",
       "    </tr>\n",
       "    <tr>\n",
       "      <th>146</th>\n",
       "      <td>-0.444444</td>\n",
       "      <td>-0.791667</td>\n",
       "      <td>-0.322034</td>\n",
       "      <td>-0.250000</td>\n",
       "    </tr>\n",
       "    <tr>\n",
       "      <th>147</th>\n",
       "      <td>-0.388889</td>\n",
       "      <td>-0.583333</td>\n",
       "      <td>-0.288136</td>\n",
       "      <td>-0.208333</td>\n",
       "    </tr>\n",
       "    <tr>\n",
       "      <th>148</th>\n",
       "      <td>-0.472222</td>\n",
       "      <td>-0.416667</td>\n",
       "      <td>-0.254237</td>\n",
       "      <td>-0.083333</td>\n",
       "    </tr>\n",
       "    <tr>\n",
       "      <th>149</th>\n",
       "      <td>-0.555556</td>\n",
       "      <td>-0.583333</td>\n",
       "      <td>-0.305085</td>\n",
       "      <td>-0.291667</td>\n",
       "    </tr>\n",
       "  </tbody>\n",
       "</table>\n",
       "<p>150 rows × 4 columns</p>\n",
       "</div>"
      ],
      "text/plain": [
       "     sepal length (cm)  sepal width (cm)  petal length (cm)  petal width (cm)\n",
       "0            -0.777778         -0.375000          -0.932203         -0.958333\n",
       "1            -0.833333         -0.583333          -0.932203         -0.958333\n",
       "2            -0.888889         -0.500000          -0.949153         -0.958333\n",
       "3            -0.916667         -0.541667          -0.915254         -0.958333\n",
       "4            -0.805556         -0.333333          -0.932203         -0.958333\n",
       "..                 ...               ...                ...               ...\n",
       "145          -0.333333         -0.583333          -0.288136         -0.083333\n",
       "146          -0.444444         -0.791667          -0.322034         -0.250000\n",
       "147          -0.388889         -0.583333          -0.288136         -0.208333\n",
       "148          -0.472222         -0.416667          -0.254237         -0.083333\n",
       "149          -0.555556         -0.583333          -0.305085         -0.291667\n",
       "\n",
       "[150 rows x 4 columns]"
      ]
     },
     "execution_count": 43,
     "metadata": {},
     "output_type": "execute_result"
    }
   ],
   "source": [
    "df3"
   ]
  },
  {
   "cell_type": "code",
   "execution_count": 44,
   "id": "6e0e5b64-1306-47bb-a9d1-e124d336d99d",
   "metadata": {},
   "outputs": [],
   "source": [
    "from sklearn.preprocessing import MinMaxScaler\n",
    "scaler = MinMaxScaler()\n",
    "df_scaled=scaler.fit_transform(df2)"
   ]
  },
  {
   "cell_type": "code",
   "execution_count": 45,
   "id": "c95b49d9-99e1-436d-82a8-189887d676a7",
   "metadata": {},
   "outputs": [
    {
     "ename": "ValueError",
     "evalue": "Shape of passed values is (150, 4), indices imply (150, 8)",
     "output_type": "error",
     "traceback": [
      "\u001b[1;31m---------------------------------------------------------------------------\u001b[0m",
      "\u001b[1;31mValueError\u001b[0m                                Traceback (most recent call last)",
      "Cell \u001b[1;32mIn[45], line 1\u001b[0m\n\u001b[1;32m----> 1\u001b[0m df_scaled\u001b[38;5;241m=\u001b[39m\u001b[43mpd\u001b[49m\u001b[38;5;241;43m.\u001b[39;49m\u001b[43mDataFrame\u001b[49m\u001b[43m(\u001b[49m\u001b[43mdf_scaled\u001b[49m\u001b[43m,\u001b[49m\u001b[43mcolumns\u001b[49m\u001b[38;5;241;43m=\u001b[39;49m\u001b[43mdf1\u001b[49m\u001b[43m)\u001b[49m\n",
      "File \u001b[1;32m~\\AppData\\Local\\Programs\\Python\\Python311\\Lib\\site-packages\\pandas\\core\\frame.py:785\u001b[0m, in \u001b[0;36mDataFrame.__init__\u001b[1;34m(self, data, index, columns, dtype, copy)\u001b[0m\n\u001b[0;32m    774\u001b[0m         mgr \u001b[38;5;241m=\u001b[39m dict_to_mgr(\n\u001b[0;32m    775\u001b[0m             \u001b[38;5;66;03m# error: Item \"ndarray\" of \"Union[ndarray, Series, Index]\" has no\u001b[39;00m\n\u001b[0;32m    776\u001b[0m             \u001b[38;5;66;03m# attribute \"name\"\u001b[39;00m\n\u001b[1;32m   (...)\u001b[0m\n\u001b[0;32m    782\u001b[0m             copy\u001b[38;5;241m=\u001b[39m_copy,\n\u001b[0;32m    783\u001b[0m         )\n\u001b[0;32m    784\u001b[0m     \u001b[38;5;28;01melse\u001b[39;00m:\n\u001b[1;32m--> 785\u001b[0m         mgr \u001b[38;5;241m=\u001b[39m \u001b[43mndarray_to_mgr\u001b[49m\u001b[43m(\u001b[49m\n\u001b[0;32m    786\u001b[0m \u001b[43m            \u001b[49m\u001b[43mdata\u001b[49m\u001b[43m,\u001b[49m\n\u001b[0;32m    787\u001b[0m \u001b[43m            \u001b[49m\u001b[43mindex\u001b[49m\u001b[43m,\u001b[49m\n\u001b[0;32m    788\u001b[0m \u001b[43m            \u001b[49m\u001b[43mcolumns\u001b[49m\u001b[43m,\u001b[49m\n\u001b[0;32m    789\u001b[0m \u001b[43m            \u001b[49m\u001b[43mdtype\u001b[49m\u001b[38;5;241;43m=\u001b[39;49m\u001b[43mdtype\u001b[49m\u001b[43m,\u001b[49m\n\u001b[0;32m    790\u001b[0m \u001b[43m            \u001b[49m\u001b[43mcopy\u001b[49m\u001b[38;5;241;43m=\u001b[39;49m\u001b[43mcopy\u001b[49m\u001b[43m,\u001b[49m\n\u001b[0;32m    791\u001b[0m \u001b[43m            \u001b[49m\u001b[43mtyp\u001b[49m\u001b[38;5;241;43m=\u001b[39;49m\u001b[43mmanager\u001b[49m\u001b[43m,\u001b[49m\n\u001b[0;32m    792\u001b[0m \u001b[43m        \u001b[49m\u001b[43m)\u001b[49m\n\u001b[0;32m    794\u001b[0m \u001b[38;5;66;03m# For data is list-like, or Iterable (will consume into list)\u001b[39;00m\n\u001b[0;32m    795\u001b[0m \u001b[38;5;28;01melif\u001b[39;00m is_list_like(data):\n",
      "File \u001b[1;32m~\\AppData\\Local\\Programs\\Python\\Python311\\Lib\\site-packages\\pandas\\core\\internals\\construction.py:336\u001b[0m, in \u001b[0;36mndarray_to_mgr\u001b[1;34m(values, index, columns, dtype, copy, typ)\u001b[0m\n\u001b[0;32m    331\u001b[0m \u001b[38;5;66;03m# _prep_ndarraylike ensures that values.ndim == 2 at this point\u001b[39;00m\n\u001b[0;32m    332\u001b[0m index, columns \u001b[38;5;241m=\u001b[39m _get_axes(\n\u001b[0;32m    333\u001b[0m     values\u001b[38;5;241m.\u001b[39mshape[\u001b[38;5;241m0\u001b[39m], values\u001b[38;5;241m.\u001b[39mshape[\u001b[38;5;241m1\u001b[39m], index\u001b[38;5;241m=\u001b[39mindex, columns\u001b[38;5;241m=\u001b[39mcolumns\n\u001b[0;32m    334\u001b[0m )\n\u001b[1;32m--> 336\u001b[0m \u001b[43m_check_values_indices_shape_match\u001b[49m\u001b[43m(\u001b[49m\u001b[43mvalues\u001b[49m\u001b[43m,\u001b[49m\u001b[43m \u001b[49m\u001b[43mindex\u001b[49m\u001b[43m,\u001b[49m\u001b[43m \u001b[49m\u001b[43mcolumns\u001b[49m\u001b[43m)\u001b[49m\n\u001b[0;32m    338\u001b[0m \u001b[38;5;28;01mif\u001b[39;00m typ \u001b[38;5;241m==\u001b[39m \u001b[38;5;124m\"\u001b[39m\u001b[38;5;124marray\u001b[39m\u001b[38;5;124m\"\u001b[39m:\n\u001b[0;32m    339\u001b[0m     \u001b[38;5;28;01mif\u001b[39;00m \u001b[38;5;28missubclass\u001b[39m(values\u001b[38;5;241m.\u001b[39mdtype\u001b[38;5;241m.\u001b[39mtype, \u001b[38;5;28mstr\u001b[39m):\n",
      "File \u001b[1;32m~\\AppData\\Local\\Programs\\Python\\Python311\\Lib\\site-packages\\pandas\\core\\internals\\construction.py:420\u001b[0m, in \u001b[0;36m_check_values_indices_shape_match\u001b[1;34m(values, index, columns)\u001b[0m\n\u001b[0;32m    418\u001b[0m passed \u001b[38;5;241m=\u001b[39m values\u001b[38;5;241m.\u001b[39mshape\n\u001b[0;32m    419\u001b[0m implied \u001b[38;5;241m=\u001b[39m (\u001b[38;5;28mlen\u001b[39m(index), \u001b[38;5;28mlen\u001b[39m(columns))\n\u001b[1;32m--> 420\u001b[0m \u001b[38;5;28;01mraise\u001b[39;00m \u001b[38;5;167;01mValueError\u001b[39;00m(\u001b[38;5;124mf\u001b[39m\u001b[38;5;124m\"\u001b[39m\u001b[38;5;124mShape of passed values is \u001b[39m\u001b[38;5;132;01m{\u001b[39;00mpassed\u001b[38;5;132;01m}\u001b[39;00m\u001b[38;5;124m, indices imply \u001b[39m\u001b[38;5;132;01m{\u001b[39;00mimplied\u001b[38;5;132;01m}\u001b[39;00m\u001b[38;5;124m\"\u001b[39m)\n",
      "\u001b[1;31mValueError\u001b[0m: Shape of passed values is (150, 4), indices imply (150, 8)"
     ]
    }
   ],
   "source": [
    "df_scaled=pd.DataFrame(df_scaled,columns=df1)"
   ]
  },
  {
   "cell_type": "code",
   "execution_count": null,
   "id": "91c9eeab-5534-4001-bc53-2c09df2cbc24",
   "metadata": {},
   "outputs": [],
   "source": [
    "df_scaled"
   ]
  },
  {
   "cell_type": "code",
   "execution_count": null,
   "id": "a2fe3777-f129-406c-8e8e-9cb9500f9c85",
   "metadata": {},
   "outputs": [],
   "source": [
    "df_scaled.describe()"
   ]
  },
  {
   "cell_type": "code",
   "execution_count": null,
   "id": "cea6b12f-931a-4cc4-a41b-632e2b0c1971",
   "metadata": {},
   "outputs": [],
   "source": [
    "from sklearn.preprocessing import StandardScaler\n",
    "scaler = StandardScaler()\n",
    "df_scaled1=scaler.fit_transform(df2)"
   ]
  },
  {
   "cell_type": "code",
   "execution_count": null,
   "id": "f0150a20-a1b5-4594-8156-7435f16fef3b",
   "metadata": {},
   "outputs": [],
   "source": [
    "df_scaled1"
   ]
  },
  {
   "cell_type": "code",
   "execution_count": null,
   "id": "0f3ac363-c503-4798-8593-d8b843016b4e",
   "metadata": {},
   "outputs": [],
   "source": [
    "df_scaled1=pd.DataFrame(df_scaled,columns=df_scaled.feature_names)"
   ]
  },
  {
   "cell_type": "code",
   "execution_count": null,
   "id": "f8c64a6e-4454-4804-856a-a7f3cc098a38",
   "metadata": {},
   "outputs": [],
   "source": [
    "df_scaled1.describe()"
   ]
  },
  {
   "cell_type": "code",
   "execution_count": null,
   "id": "e8fc2877-8df5-4416-bf4d-2a901ac9ce55",
   "metadata": {},
   "outputs": [],
   "source": [
    "s=datasets.load_wine()"
   ]
  },
  {
   "cell_type": "code",
   "execution_count": null,
   "id": "2003653b-1bf7-4bf1-a54c-42712926897f",
   "metadata": {},
   "outputs": [],
   "source": [
    "s"
   ]
  },
  {
   "cell_type": "code",
   "execution_count": null,
   "id": "a30e6fa6-82e8-404a-9c90-a105ea9640eb",
   "metadata": {},
   "outputs": [],
   "source": [
    "df_wine=pd.DataFrame(data=s.data,columns=s.feature_names)"
   ]
  },
  {
   "cell_type": "code",
   "execution_count": null,
   "id": "91a5fb23-48cc-499a-bb88-9b243a82bcf8",
   "metadata": {},
   "outputs": [],
   "source": [
    "df_wine"
   ]
  },
  {
   "cell_type": "code",
   "execution_count": null,
   "id": "2ecad4c8-b7e7-4f82-9c5c-1dccf44ab3c5",
   "metadata": {},
   "outputs": [],
   "source": [
    "from sklearn.preprocessing import StandardScaler\n",
    "scaler=StandardScaler()"
   ]
  },
  {
   "cell_type": "code",
   "execution_count": null,
   "id": "9bbe46e2-a6e7-40e1-85b5-86f54b31d29e",
   "metadata": {},
   "outputs": [],
   "source": [
    "df_wine_scale=scaler.fit_transform(df_wine)"
   ]
  },
  {
   "cell_type": "code",
   "execution_count": null,
   "id": "c66abcdd-6e11-4fc9-bf49-69aed482a461",
   "metadata": {},
   "outputs": [],
   "source": [
    "df_wine_scale=pd.DataFrame(df_wine_scale,columns=s.feature_names)"
   ]
  },
  {
   "cell_type": "code",
   "execution_count": null,
   "id": "38b39bd3-a6ba-433c-9dd1-ce09e50ba8df",
   "metadata": {},
   "outputs": [],
   "source": [
    "df_wine.iloc[:,:].describe()"
   ]
  },
  {
   "cell_type": "code",
   "execution_count": null,
   "id": "35e648ec-6eea-4782-89cb-76a53aa2903e",
   "metadata": {},
   "outputs": [],
   "source": [
    "df_wine_scale.iloc[:,:].describe()"
   ]
  },
  {
   "cell_type": "code",
   "execution_count": null,
   "id": "34b46977-a411-4794-af55-5ac94290c09d",
   "metadata": {},
   "outputs": [],
   "source": [
    "df_wine"
   ]
  },
  {
   "cell_type": "code",
   "execution_count": null,
   "id": "8494459c-3bb6-41be-aa41-9bdf80140960",
   "metadata": {},
   "outputs": [],
   "source": [
    "df"
   ]
  },
  {
   "cell_type": "code",
   "execution_count": null,
   "id": "45ebf049-5fb8-4c40-bc5b-ba1b04bad5f6",
   "metadata": {},
   "outputs": [],
   "source": [
    "from sklearn import datasets"
   ]
  },
  {
   "cell_type": "code",
   "execution_count": null,
   "id": "d3981711-c9e0-4dd3-9c97-c49419fd5585",
   "metadata": {},
   "outputs": [],
   "source": [
    "datasets.load_iris"
   ]
  },
  {
   "cell_type": "code",
   "execution_count": null,
   "id": "5f792bee-698c-4169-83d1-d8c2348bf333",
   "metadata": {},
   "outputs": [],
   "source": [
    "import seaborn as sns"
   ]
  },
  {
   "cell_type": "code",
   "execution_count": null,
   "id": "d38ab6cc-9ba7-44bb-a035-01a77cda638d",
   "metadata": {},
   "outputs": [],
   "source": [
    "l=sns.load_dataset(\"iris\")"
   ]
  },
  {
   "cell_type": "code",
   "execution_count": null,
   "id": "d4320fbd-050d-4c84-90e8-dd7e9f56bb51",
   "metadata": {},
   "outputs": [],
   "source": [
    "df.groupby(\"Gender\").[\"AnnualIncome\"]mean(\"AnnualIncome\")"
   ]
  },
  {
   "cell_type": "code",
   "execution_count": null,
   "id": "d498a81e-1890-4dde-b7f4-efc85765eca3",
   "metadata": {},
   "outputs": [],
   "source": [
    "import numpy as np"
   ]
  },
  {
   "cell_type": "code",
   "execution_count": null,
   "id": "3d6fdd8b-c1ec-41b8-be93-aa4046527ccc",
   "metadata": {},
   "outputs": [],
   "source": [
    "df.isna().sum()"
   ]
  },
  {
   "cell_type": "code",
   "execution_count": null,
   "id": "413bdd91-d925-411c-8c51-48e9caaf2692",
   "metadata": {},
   "outputs": [],
   "source": [
    "df[\"AnnualIncome\"]=df[\"AnnualIncome\"].map(lambda x:str(x).strip()[1:])"
   ]
  },
  {
   "cell_type": "code",
   "execution_count": 48,
   "id": "6327d087-09e0-4be0-a701-6edd05b5759a",
   "metadata": {},
   "outputs": [
    {
     "data": {
      "text/plain": [
       "0        $90,000 \n",
       "1        $60,000 \n",
       "2        $60,000 \n",
       "3        $70,000 \n",
       "4        $80,000 \n",
       "           ...   \n",
       "18143    $30,000 \n",
       "18144    $30,000 \n",
       "18145    $30,000 \n",
       "18146    $30,000 \n",
       "18147    $30,000 \n",
       "Name: AnnualIncome, Length: 18017, dtype: object"
      ]
     },
     "execution_count": 48,
     "metadata": {},
     "output_type": "execute_result"
    }
   ],
   "source": [
    "df[\"AnnualIncome\"]"
   ]
  },
  {
   "cell_type": "code",
   "execution_count": 53,
   "id": "4f39089d-39be-4e74-9a83-245e17173b9a",
   "metadata": {},
   "outputs": [],
   "source": [
    "def x(str):\n",
    "    s=\"\"\n",
    "    for i in str:\n",
    "        if(i.isnumeric()):\n",
    "            s+=i\n",
    "    return s;\n",
    "    \n",
    "    "
   ]
  },
  {
   "cell_type": "code",
   "execution_count": 54,
   "id": "03b3e556-d74e-47b7-9490-22d5a1190492",
   "metadata": {},
   "outputs": [
    {
     "name": "stderr",
     "output_type": "stream",
     "text": [
      "C:\\Users\\Arunkumar\\AppData\\Local\\Temp\\ipykernel_52180\\2424390426.py:1: SettingWithCopyWarning: \n",
      "A value is trying to be set on a copy of a slice from a DataFrame.\n",
      "Try using .loc[row_indexer,col_indexer] = value instead\n",
      "\n",
      "See the caveats in the documentation: https://pandas.pydata.org/pandas-docs/stable/user_guide/indexing.html#returning-a-view-versus-a-copy\n",
      "  df[\"AnnualIncome\"]=df[\"AnnualIncome\"].apply(x)\n"
     ]
    }
   ],
   "source": [
    "df[\"AnnualIncome\"]=df[\"AnnualIncome\"].apply(x)"
   ]
  },
  {
   "cell_type": "code",
   "execution_count": 55,
   "id": "69201a5c-cff7-4566-a0e5-fc7ee1147c4c",
   "metadata": {},
   "outputs": [
    {
     "name": "stderr",
     "output_type": "stream",
     "text": [
      "C:\\Users\\Arunkumar\\AppData\\Local\\Temp\\ipykernel_52180\\1375502284.py:1: SettingWithCopyWarning: \n",
      "A value is trying to be set on a copy of a slice from a DataFrame.\n",
      "Try using .loc[row_indexer,col_indexer] = value instead\n",
      "\n",
      "See the caveats in the documentation: https://pandas.pydata.org/pandas-docs/stable/user_guide/indexing.html#returning-a-view-versus-a-copy\n",
      "  df[\"AnnualIncome\"]=df[\"AnnualIncome\"].astype(\"float\")\n"
     ]
    }
   ],
   "source": [
    "df[\"AnnualIncome\"]=df[\"AnnualIncome\"].astype(\"float\")"
   ]
  },
  {
   "cell_type": "code",
   "execution_count": 61,
   "id": "d95750f6-c3b5-46b6-9517-42ca86c80218",
   "metadata": {},
   "outputs": [
    {
     "data": {
      "text/plain": [
       "Gender\n",
       "F    57344.804318\n",
       "M    57255.890411\n",
       "Name: AnnualIncome, dtype: float64"
      ]
     },
     "execution_count": 61,
     "metadata": {},
     "output_type": "execute_result"
    }
   ],
   "source": [
    "df.groupby(\"Gender\")[\"AnnualIncome\"].mean()"
   ]
  },
  {
   "cell_type": "code",
   "execution_count": 59,
   "id": "237722ed-191e-4e38-a73b-01a273471293",
   "metadata": {},
   "outputs": [
    {
     "data": {
      "text/html": [
       "<div>\n",
       "<style scoped>\n",
       "    .dataframe tbody tr th:only-of-type {\n",
       "        vertical-align: middle;\n",
       "    }\n",
       "\n",
       "    .dataframe tbody tr th {\n",
       "        vertical-align: top;\n",
       "    }\n",
       "\n",
       "    .dataframe thead tr th {\n",
       "        text-align: left;\n",
       "    }\n",
       "\n",
       "    .dataframe thead tr:last-of-type th {\n",
       "        text-align: right;\n",
       "    }\n",
       "</style>\n",
       "<table border=\"1\" class=\"dataframe\">\n",
       "  <thead>\n",
       "    <tr>\n",
       "      <th></th>\n",
       "      <th></th>\n",
       "      <th colspan=\"2\" halign=\"left\">AnnualIncome</th>\n",
       "      <th colspan=\"2\" halign=\"left\">TotalChildren</th>\n",
       "    </tr>\n",
       "    <tr>\n",
       "      <th></th>\n",
       "      <th></th>\n",
       "      <th>mean</th>\n",
       "      <th>std</th>\n",
       "      <th>max</th>\n",
       "      <th>min</th>\n",
       "    </tr>\n",
       "    <tr>\n",
       "      <th>Gender</th>\n",
       "      <th>MaritalStatus</th>\n",
       "      <th></th>\n",
       "      <th></th>\n",
       "      <th></th>\n",
       "      <th></th>\n",
       "    </tr>\n",
       "  </thead>\n",
       "  <tbody>\n",
       "    <tr>\n",
       "      <th rowspan=\"2\" valign=\"top\">F</th>\n",
       "      <th>M</th>\n",
       "      <td>60362.334563</td>\n",
       "      <td>32301.392693</td>\n",
       "      <td>5</td>\n",
       "      <td>0</td>\n",
       "    </tr>\n",
       "    <tr>\n",
       "      <th>S</th>\n",
       "      <td>54097.595144</td>\n",
       "      <td>30867.071244</td>\n",
       "      <td>5</td>\n",
       "      <td>0</td>\n",
       "    </tr>\n",
       "    <tr>\n",
       "      <th rowspan=\"2\" valign=\"top\">M</th>\n",
       "      <th>M</th>\n",
       "      <td>60311.284047</td>\n",
       "      <td>32118.256466</td>\n",
       "      <td>5</td>\n",
       "      <td>0</td>\n",
       "    </tr>\n",
       "    <tr>\n",
       "      <th>S</th>\n",
       "      <td>53314.930991</td>\n",
       "      <td>32973.115500</td>\n",
       "      <td>5</td>\n",
       "      <td>0</td>\n",
       "    </tr>\n",
       "  </tbody>\n",
       "</table>\n",
       "</div>"
      ],
      "text/plain": [
       "                      AnnualIncome               TotalChildren    \n",
       "                              mean           std           max min\n",
       "Gender MaritalStatus                                              \n",
       "F      M              60362.334563  32301.392693             5   0\n",
       "       S              54097.595144  30867.071244             5   0\n",
       "M      M              60311.284047  32118.256466             5   0\n",
       "       S              53314.930991  32973.115500             5   0"
      ]
     },
     "execution_count": 59,
     "metadata": {},
     "output_type": "execute_result"
    }
   ],
   "source": [
    "df.groupby([\"Gender\",\"MaritalStatus\"]).agg({\"AnnualIncome\":[\"mean\",\"std\"],\"TotalChildren\":[\"max\",\"min\"]})"
   ]
  },
  {
   "cell_type": "code",
   "execution_count": 60,
   "id": "68bfa5f8-648e-4b0f-90d1-078aa5e1f4d4",
   "metadata": {},
   "outputs": [
    {
     "data": {
      "text/html": [
       "<div>\n",
       "<style scoped>\n",
       "    .dataframe tbody tr th:only-of-type {\n",
       "        vertical-align: middle;\n",
       "    }\n",
       "\n",
       "    .dataframe tbody tr th {\n",
       "        vertical-align: top;\n",
       "    }\n",
       "\n",
       "    .dataframe thead tr th {\n",
       "        text-align: left;\n",
       "    }\n",
       "</style>\n",
       "<table border=\"1\" class=\"dataframe\">\n",
       "  <thead>\n",
       "    <tr>\n",
       "      <th></th>\n",
       "      <th>Gender</th>\n",
       "      <th>MaritalStatus</th>\n",
       "      <th colspan=\"2\" halign=\"left\">AnnualIncome</th>\n",
       "      <th colspan=\"2\" halign=\"left\">TotalChildren</th>\n",
       "    </tr>\n",
       "    <tr>\n",
       "      <th></th>\n",
       "      <th></th>\n",
       "      <th></th>\n",
       "      <th>mean</th>\n",
       "      <th>std</th>\n",
       "      <th>max</th>\n",
       "      <th>min</th>\n",
       "    </tr>\n",
       "  </thead>\n",
       "  <tbody>\n",
       "    <tr>\n",
       "      <th>0</th>\n",
       "      <td>F</td>\n",
       "      <td>M</td>\n",
       "      <td>60362.334563</td>\n",
       "      <td>32301.392693</td>\n",
       "      <td>5</td>\n",
       "      <td>0</td>\n",
       "    </tr>\n",
       "    <tr>\n",
       "      <th>1</th>\n",
       "      <td>F</td>\n",
       "      <td>S</td>\n",
       "      <td>54097.595144</td>\n",
       "      <td>30867.071244</td>\n",
       "      <td>5</td>\n",
       "      <td>0</td>\n",
       "    </tr>\n",
       "    <tr>\n",
       "      <th>2</th>\n",
       "      <td>M</td>\n",
       "      <td>M</td>\n",
       "      <td>60311.284047</td>\n",
       "      <td>32118.256466</td>\n",
       "      <td>5</td>\n",
       "      <td>0</td>\n",
       "    </tr>\n",
       "    <tr>\n",
       "      <th>3</th>\n",
       "      <td>M</td>\n",
       "      <td>S</td>\n",
       "      <td>53314.930991</td>\n",
       "      <td>32973.115500</td>\n",
       "      <td>5</td>\n",
       "      <td>0</td>\n",
       "    </tr>\n",
       "  </tbody>\n",
       "</table>\n",
       "</div>"
      ],
      "text/plain": [
       "  Gender MaritalStatus  AnnualIncome               TotalChildren    \n",
       "                                mean           std           max min\n",
       "0      F             M  60362.334563  32301.392693             5   0\n",
       "1      F             S  54097.595144  30867.071244             5   0\n",
       "2      M             M  60311.284047  32118.256466             5   0\n",
       "3      M             S  53314.930991  32973.115500             5   0"
      ]
     },
     "execution_count": 60,
     "metadata": {},
     "output_type": "execute_result"
    }
   ],
   "source": [
    "df.groupby([\"Gender\",\"MaritalStatus\"]).agg({\"AnnualIncome\":[\"mean\",\"std\"],\"TotalChildren\":[\"max\",\"min\"]}).reset_index()"
   ]
  },
  {
   "cell_type": "code",
   "execution_count": 70,
   "id": "81a626e2-97a4-43a4-8ec8-123c04570727",
   "metadata": {},
   "outputs": [
    {
     "data": {
      "text/html": [
       "<div>\n",
       "<style scoped>\n",
       "    .dataframe tbody tr th:only-of-type {\n",
       "        vertical-align: middle;\n",
       "    }\n",
       "\n",
       "    .dataframe tbody tr th {\n",
       "        vertical-align: top;\n",
       "    }\n",
       "\n",
       "    .dataframe thead th {\n",
       "        text-align: right;\n",
       "    }\n",
       "</style>\n",
       "<table border=\"1\" class=\"dataframe\">\n",
       "  <thead>\n",
       "    <tr style=\"text-align: right;\">\n",
       "      <th></th>\n",
       "      <th>AnnualIncome</th>\n",
       "    </tr>\n",
       "    <tr>\n",
       "      <th>Gender</th>\n",
       "      <th></th>\n",
       "    </tr>\n",
       "  </thead>\n",
       "  <tbody>\n",
       "    <tr>\n",
       "      <th>F</th>\n",
       "      <td>160000.0</td>\n",
       "    </tr>\n",
       "    <tr>\n",
       "      <th>M</th>\n",
       "      <td>160000.0</td>\n",
       "    </tr>\n",
       "  </tbody>\n",
       "</table>\n",
       "</div>"
      ],
      "text/plain": [
       "        AnnualIncome\n",
       "Gender              \n",
       "F           160000.0\n",
       "M           160000.0"
      ]
     },
     "execution_count": 70,
     "metadata": {},
     "output_type": "execute_result"
    }
   ],
   "source": [
    "df.groupby(\"Gender\").agg({\"AnnualIncome\":lambda x:max(x)-min(x)})"
   ]
  },
  {
   "cell_type": "code",
   "execution_count": null,
   "id": "583c2d77-411f-4e23-b642-d02a0b50c83c",
   "metadata": {},
   "outputs": [],
   "source": []
  },
  {
   "cell_type": "code",
   "execution_count": null,
   "id": "902e0eb7-4736-49e7-9289-d6b1daa5222b",
   "metadata": {},
   "outputs": [],
   "source": []
  }
 ],
 "metadata": {
  "kernelspec": {
   "display_name": "Python 3 (ipykernel)",
   "language": "python",
   "name": "python3"
  },
  "language_info": {
   "codemirror_mode": {
    "name": "ipython",
    "version": 3
   },
   "file_extension": ".py",
   "mimetype": "text/x-python",
   "name": "python",
   "nbconvert_exporter": "python",
   "pygments_lexer": "ipython3",
   "version": "3.11.5"
  }
 },
 "nbformat": 4,
 "nbformat_minor": 5
}
