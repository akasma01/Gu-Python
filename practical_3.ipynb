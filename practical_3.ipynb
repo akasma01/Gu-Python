{
 "cells": [
  {
   "cell_type": "code",
   "execution_count": 13,
   "id": "3a7a2906-a7e8-4d3d-a502-97ee53515bd4",
   "metadata": {},
   "outputs": [
    {
     "data": {
      "text/plain": [
       "125"
      ]
     },
     "execution_count": 13,
     "metadata": {},
     "output_type": "execute_result"
    }
   ],
   "source": [
    "def recPower(a,b):\n",
    "    if b==0:\n",
    "        return 1\n",
    "    else:\n",
    "        b=b-1\n",
    "        return a*recPower(a,b)\n",
    "recPower(5,3)"
   ]
  },
  {
   "cell_type": "code",
   "execution_count": 9,
   "id": "6cd1f599-799e-4985-b6bd-3f6ef0a3de4e",
   "metadata": {},
   "outputs": [
    {
     "name": "stdout",
     "output_type": "stream",
     "text": [
      "Hello  Shubham\n"
     ]
    }
   ],
   "source": [
    "def hello(a):\n",
    "    print(\"Hello \",a)\n",
    "    \n",
    "hello(\"Shubham\")"
   ]
  },
  {
   "cell_type": "code",
   "execution_count": 15,
   "id": "9d7aa08f-b746-42c3-a3cb-34be89080496",
   "metadata": {},
   "outputs": [
    {
     "name": "stdout",
     "output_type": "stream",
     "text": [
      "1\n",
      "4\n",
      "9\n",
      "16\n",
      "25\n",
      "36\n",
      "49\n",
      "64\n",
      "81\n",
      "100\n",
      "121\n",
      "144\n",
      "169\n",
      "196\n",
      "225\n",
      "256\n",
      "289\n",
      "324\n",
      "361\n",
      "400\n",
      "441\n",
      "484\n",
      "529\n",
      "576\n",
      "625\n",
      "676\n",
      "729\n",
      "784\n",
      "841\n",
      "900\n"
     ]
    }
   ],
   "source": [
    "l1=[]\n",
    "for i in range(1,31):\n",
    "    l1.append(i*i)\n",
    "    \n",
    "for i in l1:\n",
    "    print(i)"
   ]
  },
  {
   "cell_type": "code",
   "execution_count": 17,
   "id": "ac73274c-6b33-4ffa-96c6-7069b7c71fcf",
   "metadata": {},
   "outputs": [
    {
     "name": "stdout",
     "output_type": "stream",
     "text": [
      "0\n",
      "1\n",
      "4\n",
      "9\n",
      "16\n",
      "25\n",
      "36\n",
      "49\n",
      "64\n",
      "81\n",
      "100\n",
      "121\n",
      "144\n",
      "169\n",
      "196\n",
      "225\n",
      "256\n",
      "289\n",
      "324\n",
      "361\n",
      "400\n",
      "441\n",
      "484\n",
      "529\n",
      "576\n",
      "625\n",
      "676\n",
      "729\n",
      "784\n",
      "841\n",
      "900\n"
     ]
    }
   ],
   "source": [
    "l2=[i*i for i in range(0,31)]\n",
    "for i in l2:\n",
    "    print(i)"
   ]
  },
  {
   "cell_type": "code",
   "execution_count": 20,
   "id": "91e234cb-09fe-44a9-8707-62aaa109d0cf",
   "metadata": {},
   "outputs": [
    {
     "name": "stdin",
     "output_type": "stream",
     "text": [
      "Enter degrees to convert it into radian 100\n"
     ]
    },
    {
     "name": "stdout",
     "output_type": "stream",
     "text": [
      "The Radian for degree is: 1.7453292519943295\n"
     ]
    }
   ],
   "source": [
    "import math as m\n",
    "degree=float(input(\"Enter degree to convert it into radian\"))\n",
    "print(\"The Radian for degree is:\",m.radians(degree))"
   ]
  },
  {
   "cell_type": "code",
   "execution_count": 22,
   "id": "418f041c-2655-4037-a999-a4f4e30ee12a",
   "metadata": {},
   "outputs": [
    {
     "name": "stdin",
     "output_type": "stream",
     "text": [
      "Enter radian to convert it into degree 1.74\n"
     ]
    },
    {
     "name": "stdout",
     "output_type": "stream",
     "text": [
      "The degree for Radian is: 99.69465635276325\n"
     ]
    }
   ],
   "source": [
    "import math as m\n",
    "radian=float(input(\"Enter radian to convert it into degree\"))\n",
    "print(\"The degree for Radian is:\",m.degrees(radian))"
   ]
  },
  {
   "cell_type": "code",
   "execution_count": 23,
   "id": "2844d415-18d5-4c79-9924-717b634fcb86",
   "metadata": {},
   "outputs": [
    {
     "name": "stdin",
     "output_type": "stream",
     "text": [
      "Enter the radius of the sphere 6\n"
     ]
    },
    {
     "name": "stdout",
     "output_type": "stream",
     "text": [
      "The surface volume of the sphere is:  904.7786842338603\n",
      "The area of the sphere is:  452.3893421169302\n"
     ]
    }
   ],
   "source": [
    "import math as m\n",
    "radius=int(input(\"Enter the radius of the sphere\"))\n",
    "print(\"The surface volume of the sphere is: \",4/3*(m.pi*m.pow(radius,3)))\n",
    "print(\"The area of the sphere is: \",4*m.pi*m.pow(radius,2))"
   ]
  },
  {
   "cell_type": "code",
   "execution_count": 24,
   "id": "444d1379-6156-496e-8e7c-1ba8b2bf8ba0",
   "metadata": {},
   "outputs": [
    {
     "name": "stdout",
     "output_type": "stream",
     "text": [
      "0.0\n",
      "1.0\n",
      "1.4142135623730951\n",
      "1.7320508075688772\n",
      "2.0\n",
      "2.23606797749979\n",
      "2.449489742783178\n",
      "2.6457513110645907\n",
      "2.8284271247461903\n",
      "3.0\n",
      "3.1622776601683795\n",
      "3.3166247903554\n",
      "3.4641016151377544\n",
      "3.605551275463989\n",
      "3.7416573867739413\n",
      "3.872983346207417\n",
      "4.0\n",
      "4.123105625617661\n",
      "4.242640687119285\n",
      "4.358898943540674\n",
      "4.47213595499958\n",
      "4.58257569495584\n",
      "4.69041575982343\n",
      "4.795831523312719\n",
      "4.898979485566356\n",
      "5.0\n",
      "5.0990195135927845\n",
      "5.196152422706632\n",
      "5.291502622129181\n",
      "5.385164807134504\n",
      "5.477225575051661\n",
      "5.5677643628300215\n",
      "5.656854249492381\n",
      "5.744562646538029\n",
      "5.830951894845301\n",
      "5.916079783099616\n",
      "6.0\n",
      "6.082762530298219\n",
      "6.164414002968976\n",
      "6.244997998398398\n",
      "6.324555320336759\n",
      "6.4031242374328485\n",
      "6.48074069840786\n",
      "6.557438524302\n",
      "6.6332495807108\n",
      "6.708203932499369\n",
      "6.782329983125268\n",
      "6.855654600401044\n",
      "6.928203230275509\n",
      "7.0\n",
      "7.0710678118654755\n",
      "7.14142842854285\n",
      "7.211102550927978\n",
      "7.280109889280518\n",
      "7.3484692283495345\n",
      "7.416198487095663\n",
      "7.483314773547883\n",
      "7.54983443527075\n",
      "7.615773105863909\n",
      "7.681145747868608\n",
      "7.745966692414834\n",
      "7.810249675906654\n",
      "7.874007874011811\n",
      "7.937253933193772\n",
      "8.0\n",
      "8.06225774829855\n",
      "8.12403840463596\n",
      "8.18535277187245\n",
      "8.246211251235321\n",
      "8.306623862918075\n",
      "8.366600265340756\n",
      "8.426149773176359\n",
      "8.48528137423857\n",
      "8.54400374531753\n",
      "8.602325267042627\n",
      "8.660254037844387\n",
      "8.717797887081348\n",
      "8.774964387392123\n",
      "8.831760866327848\n",
      "8.888194417315589\n",
      "8.94427190999916\n",
      "9.0\n",
      "9.055385138137417\n",
      "9.1104335791443\n",
      "9.16515138991168\n",
      "9.219544457292887\n",
      "9.273618495495704\n",
      "9.327379053088816\n",
      "9.38083151964686\n",
      "9.433981132056603\n",
      "9.486832980505138\n",
      "9.539392014169456\n",
      "9.591663046625438\n",
      "9.643650760992955\n",
      "9.695359714832659\n",
      "9.746794344808963\n",
      "9.797958971132712\n",
      "9.848857801796104\n",
      "9.899494936611665\n",
      "9.9498743710662\n",
      "10.0\n"
     ]
    }
   ],
   "source": [
    "import math as m\n",
    "for i in range(0,101):\n",
    "    print(m.sqrt(i))"
   ]
  },
  {
   "cell_type": "code",
   "execution_count": 26,
   "id": "2af736ef-acc6-487d-9abb-1e1213c0b093",
   "metadata": {},
   "outputs": [
    {
     "name": "stdin",
     "output_type": "stream",
     "text": [
      "Enter value of X 10\n",
      "Enter value of Y 20\n"
     ]
    },
    {
     "name": "stdout",
     "output_type": "stream",
     "text": [
      "The value of Z is:  300\n"
     ]
    }
   ],
   "source": [
    "import math as m\n",
    "x=int(input(\"Enter value of X\"))\n",
    "y=int(input(\"Enter value of Y\"))\n",
    "\n",
    "z=(abs(x-y))*(x+y)\n",
    "\n",
    "print(\"The value of Z is: \",z)"
   ]
  },
  {
   "cell_type": "code",
   "execution_count": 29,
   "id": "1135c12b-2051-4c23-bc7d-8040bb9f5456",
   "metadata": {},
   "outputs": [
    {
     "data": {
      "text/plain": [
       "20"
      ]
     },
     "execution_count": 29,
     "metadata": {},
     "output_type": "execute_result"
    }
   ],
   "source": [
    "def outer(a,b):\n",
    "    def inner(a,b):\n",
    "        return a+b\n",
    "    return inner(a,b)+5\n",
    "outer(5,10)\n",
    "    \n",
    "    "
   ]
  },
  {
   "cell_type": "code",
   "execution_count": 32,
   "id": "16f31986-31a7-49b9-a05e-a87956d7df5e",
   "metadata": {},
   "outputs": [
    {
     "name": "stdout",
     "output_type": "stream",
     "text": [
      "Hello shubham\n"
     ]
    }
   ],
   "source": [
    "def greet(name):\n",
    "    print(\"Hello\",name)\n",
    "    \n",
    "greet(\"shubham\")"
   ]
  },
  {
   "cell_type": "code",
   "execution_count": 33,
   "id": "fd80a4e2-137f-4a4a-9d3f-4feb7cffa1e4",
   "metadata": {},
   "outputs": [
    {
     "name": "stdout",
     "output_type": "stream",
     "text": [
      "4\n",
      "6\n",
      "8\n",
      "10\n",
      "12\n",
      "14\n",
      "16\n",
      "18\n",
      "20\n",
      "22\n",
      "24\n",
      "26\n",
      "28\n",
      "30\n"
     ]
    }
   ],
   "source": [
    "l3=[i for i in range(4,31) if i%2==0]\n",
    "for i in l3:\n",
    "    print(i)"
   ]
  },
  {
   "cell_type": "code",
   "execution_count": 35,
   "id": "f069e92e-e820-48d8-beca-1b92deaab815",
   "metadata": {},
   "outputs": [
    {
     "name": "stdout",
     "output_type": "stream",
     "text": [
      "The greatest no is 109\n"
     ]
    }
   ],
   "source": [
    "l4=[30,65,44,109,85,73,42]\n",
    "print(\"The greatest no is\",max(l4))"
   ]
  },
  {
   "cell_type": "code",
   "execution_count": 41,
   "id": "654e707e-106b-44b7-8134-8e6d960a16ea",
   "metadata": {},
   "outputs": [
    {
     "name": "stdin",
     "output_type": "stream",
     "text": [
      "How many elements do you want to enter in the list 5\n",
      "Enter the number:  189\n",
      "Enter the number:  235\n",
      "Enter the number:  63\n",
      "Enter the number:  45\n",
      "Enter the number:  856\n"
     ]
    },
    {
     "name": "stdout",
     "output_type": "stream",
     "text": [
      "189\n",
      "235\n",
      "63\n",
      "45\n",
      "856\n",
      "The maximum number is 856\n"
     ]
    }
   ],
   "source": [
    "l5=[]\n",
    "n=int(input(\"How many elements do you want to enter in the list\"))\n",
    "while(n!=0):\n",
    "    a=int(input(\"Enter the number: \"))\n",
    "    l5.append(a)\n",
    "    n-=1\n",
    "for i in l5:\n",
    "    print(i)\n",
    "maximum=l5[1]    \n",
    "for i in l5:\n",
    "    if(i+1>maximum):\n",
    "        maximum=i\n",
    "print(\"The maximum number is\",maximum)\n",
    "\n"
   ]
  },
  {
   "cell_type": "code",
   "execution_count": 46,
   "id": "d5dfc4b0-03a6-435b-9f0e-7b24df159431",
   "metadata": {},
   "outputs": [
    {
     "name": "stdout",
     "output_type": "stream",
     "text": [
      "['hello dear', 'hello sir', 'take dear', 'take sir']\n"
     ]
    }
   ],
   "source": [
    "l8=[]\n",
    "l6=[\"hello\",\"take\"]\n",
    "l7=[\"dear\",\"sir\"]\n",
    "\n",
    "for i in l6:\n",
    "    for j in l7:\n",
    "        l8.append(i+\" \"+ j)\n",
    "        \n",
    "print(l8)\n",
    "        "
   ]
  },
  {
   "cell_type": "code",
   "execution_count": 51,
   "id": "f1364446-c8b1-4e46-8b1a-5f896aa2a9af",
   "metadata": {},
   "outputs": [
    {
     "name": "stdout",
     "output_type": "stream",
     "text": [
      "[10, 20, [300, 400, [5000, 6000, 7000], 500], 30, 40]\n"
     ]
    }
   ],
   "source": [
    "l9 = [10, 20, [300, 400, [5000, 6000], 500], 30, 40]\n",
    "\n",
    "l9[2][2].append(7000)\n",
    "\n",
    "print(l9)"
   ]
  },
  {
   "cell_type": "code",
   "execution_count": 53,
   "id": "14df6e30-787e-469f-95c1-1c7db5e0030e",
   "metadata": {},
   "outputs": [
    {
     "name": "stdout",
     "output_type": "stream",
     "text": [
      "['a', 'b', ['c', ['d', 'e', ['f', 'g'], 'k'], 'l'], 'm', 'n']\n",
      "['a', 'b', ['c', ['d', 'e', ['f', 'g', 'h', 'i', 'j'], 'k'], 'l'], 'm', 'n']\n"
     ]
    }
   ],
   "source": [
    "sublist = [\"h\", \"i\", \"j\"]\n",
    "\n",
    "l10 = ['a', 'b', ['c', ['d', 'e', ['f', 'g'], 'k'], 'l'], 'm', 'n']\n",
    "\n",
    "print(l10)\n",
    "\n",
    "l10[2][1][2].extend(sublist)\n",
    "\n",
    "print(l10)"
   ]
  },
  {
   "cell_type": "code",
   "execution_count": null,
   "id": "f82c33a7-e1a7-482c-8510-f4e6782da498",
   "metadata": {},
   "outputs": [],
   "source": []
  }
 ],
 "metadata": {
  "kernelspec": {
   "display_name": "Python 3 (ipykernel)",
   "language": "python",
   "name": "python3"
  },
  "language_info": {
   "codemirror_mode": {
    "name": "ipython",
    "version": 3
   },
   "file_extension": ".py",
   "mimetype": "text/x-python",
   "name": "python",
   "nbconvert_exporter": "python",
   "pygments_lexer": "ipython3",
   "version": "3.10.8"
  }
 },
 "nbformat": 4,
 "nbformat_minor": 5
}
