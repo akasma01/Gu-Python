{
 "cells": [
  {
   "cell_type": "code",
   "execution_count": 35,
   "id": "d99c85aa-0f39-45ab-8837-72c2f858c4a9",
   "metadata": {},
   "outputs": [],
   "source": [
    "import numpy as np"
   ]
  },
  {
   "cell_type": "code",
   "execution_count": 38,
   "id": "c9931b11-d77e-4d5a-997d-6afb9639af92",
   "metadata": {},
   "outputs": [],
   "source": [
    "import math as m\n",
    "def l_norm(l1,l2):\n",
    "    return m.sqrt(sum((l1-l2)**2))"
   ]
  },
  {
   "cell_type": "code",
   "execution_count": 41,
   "id": "257807ac-8aa8-43a2-84a4-c3377b082961",
   "metadata": {},
   "outputs": [
    {
     "data": {
      "text/plain": [
       "8.774964387392123"
      ]
     },
     "execution_count": 41,
     "metadata": {},
     "output_type": "execute_result"
    }
   ],
   "source": [
    "import math as m\n",
    "l1=np.array([2,5,9,7])\n",
    "l2=np.array([4,6,3,1])\n",
    "x=m.sqrt(sum((l1-l2)**2))\n",
    "x"
   ]
  },
  {
   "cell_type": "code",
   "execution_count": 25,
   "id": "25828171-9bce-4ab7-9533-9d54c78bd7c8",
   "metadata": {},
   "outputs": [
    {
     "data": {
      "text/plain": [
       "nan"
      ]
     },
     "execution_count": 25,
     "metadata": {},
     "output_type": "execute_result"
    }
   ],
   "source": [
    "l3"
   ]
  },
  {
   "cell_type": "code",
   "execution_count": 34,
   "id": "b4412b34-6edf-423a-a55b-e08deda10703",
   "metadata": {},
   "outputs": [
    {
     "name": "stdout",
     "output_type": "stream",
     "text": [
      "8.774964387392123\n"
     ]
    }
   ],
   "source": [
    "# Python code to find Euclidean distance\n",
    "# using linalg.norm()\n",
    "\n",
    "import numpy as np\n",
    "\n",
    "# initializing points in\n",
    "# numpy arrays\n",
    "point1 = np.array((2,5,9,7))\n",
    "point2 = np.array((4,6,3,1))\n",
    "\n",
    "# calculating Euclidean distance\n",
    "# using linalg.norm()\n",
    "dist = np.linalg.norm(point1 - point2)\n",
    "\n",
    "# printing Euclidean distance\n",
    "print(dist)\n"
   ]
  },
  {
   "cell_type": "code",
   "execution_count": null,
   "id": "2c00061b-6df9-434a-bb61-ac932eef6766",
   "metadata": {},
   "outputs": [],
   "source": []
  }
 ],
 "metadata": {
  "kernelspec": {
   "display_name": "Python 3 (ipykernel)",
   "language": "python",
   "name": "python3"
  },
  "language_info": {
   "codemirror_mode": {
    "name": "ipython",
    "version": 3
   },
   "file_extension": ".py",
   "mimetype": "text/x-python",
   "name": "python",
   "nbconvert_exporter": "python",
   "pygments_lexer": "ipython3",
   "version": "3.11.5"
  }
 },
 "nbformat": 4,
 "nbformat_minor": 5
}
